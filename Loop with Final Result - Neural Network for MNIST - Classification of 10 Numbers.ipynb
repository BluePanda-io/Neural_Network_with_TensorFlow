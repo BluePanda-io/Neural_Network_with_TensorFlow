{
 "cells": [
  {
   "cell_type": "markdown",
   "metadata": {},
   "source": [
    "# Neural Network for MNIST Data Set\n",
    "\n",
    "#### Classify 10 Different Numbers without TensorFlow\n",
    "In this NoteBook we will create a nerual network that can classify HandWriten Images in 10 different categories, first we will start by importing the libraries for using MNIST\n",
    "\n",
    "MNIST is a Data set that is udes specifically for people that start right now with Machine Learning and Neural Network and want to build something without having to worry about data sets regularization of the data and in general the input of the algorithm\n",
    "\n",
    "This dataset will provide 6000 images all of them with size $[28,28]$ "
   ]
  },
  {
   "cell_type": "markdown",
   "metadata": {},
   "source": [
    "## Importing the MNIST DataSet"
   ]
  },
  {
   "cell_type": "code",
   "execution_count": 1,
   "metadata": {},
   "outputs": [],
   "source": [
    "import mnist\n",
    "import scipy.misc\n",
    "import matplotlib.pyplot as plt\n",
    "import matplotlib.image as mpimg\n",
    "\n",
    "import numpy as np"
   ]
  },
  {
   "cell_type": "markdown",
   "metadata": {},
   "source": [
    "The next step is to use *mnist* in order to save in different variables the images and labels of the training and test sets."
   ]
  },
  {
   "cell_type": "code",
   "execution_count": 2,
   "metadata": {},
   "outputs": [],
   "source": [
    "train_images = mnist.train_images()\n",
    "train_labels = mnist.train_labels()\n",
    "\n",
    "test_images = mnist.test_images()\n",
    "test_labels = mnist.test_labels()"
   ]
  },
  {
   "cell_type": "code",
   "execution_count": 3,
   "metadata": {},
   "outputs": [
    {
     "name": "stdout",
     "output_type": "stream",
     "text": [
      "(60000, 28, 28)\n",
      "(10000, 28, 28)\n"
     ]
    }
   ],
   "source": [
    "print(train_images.shape)\n",
    "print(test_images.shape)"
   ]
  },
  {
   "cell_type": "markdown",
   "metadata": {},
   "source": [
    "You can show the images just by writing ***plt.imshow*** and then use the specific image with this command line ***train_images[5,:,:]***\n",
    "\n",
    "Don't forget to show the results just by writing ***plt.show()***"
   ]
  },
  {
   "cell_type": "code",
   "execution_count": 4,
   "metadata": {},
   "outputs": [
    {
     "data": {
      "image/png": "[encoded data removed]",
      "text/plain": [
       "<Figure size 432x288 with 1 Axes>"
      ]
     },
     "metadata": {},
     "output_type": "display_data"
    },
    {
     "name": "stdout",
     "output_type": "stream",
     "text": [
      " The number in this image is  2\n"
     ]
    }
   ],
   "source": [
    "Index = 5\n",
    "\n",
    "imgplot = plt.imshow(train_images[Index,:,:], cmap = 'gray')\n",
    "plt.show()\n",
    "\n",
    "print(\" The number in this image is \", train_labels[Index])"
   ]
  },
  {
   "cell_type": "markdown",
   "metadata": {},
   "source": [
    "It is really important to transform every image into a vector with $28*28 = 784$ features, this enable as to use this images - pixels as idividuals features that will be used as input in the Nueral Network"
   ]
  },
  {
   "cell_type": "code",
   "execution_count": 5,
   "metadata": {},
   "outputs": [
    {
     "name": "stdout",
     "output_type": "stream",
     "text": [
      "(60000, 28, 28)\n",
      "(784, 60000)\n"
     ]
    }
   ],
   "source": [
    "print(train_images.shape)\n",
    "num_Imag = train_images.shape[0]\n",
    "nH = train_images.shape[1]\n",
    "nW = train_images.shape[2]\n",
    "Tr_Im = train_images.reshape((num_Imag,nH*nW))\n",
    "Tr_Im = np.transpose(Tr_Im)\n",
    "Tr_lab = train_labels\n",
    "print(Tr_Im.shape)\n",
    "\n",
    "#=============Parameters===================\n",
    "Batch = 500\n",
    "m=Batch\n",
    "lambda1 = 1\n",
    "#=============Parameters==================="
   ]
  },
  {
   "cell_type": "markdown",
   "metadata": {},
   "source": [
    "## We need to Change Y ( train_labels) from Hot-Vector to Binary representation \n",
    "\n",
    "Example of a Hot Vector:\n",
    "$$Y = [0,2,1,3]$$\n",
    "Example of the Binary representation\n",
    "$$ Y = \n",
    "\\begin{bmatrix}\n",
    "    1&0&0&0\\\\\n",
    "    0&0&1&0\\\\\n",
    "    0&1&0&0\\\\\n",
    "    0&0&0&1\\\\\n",
    "  \\end{bmatrix} $$"
   ]
  },
  {
   "cell_type": "code",
   "execution_count": 6,
   "metadata": {},
   "outputs": [],
   "source": [
    "def HotVector(targets,n_labels):\n",
    "    Ytr = np.zeros((targets.shape[0], n_labels)) #empty one-hot matrix\n",
    "    Ytr[np.arange(targets.shape[0]), targets] = 1 #set target idx to 1\n",
    "\n",
    "    Ytr=np.transpose(Ytr)\n",
    "\n",
    "    print(Ytr[:,0:5]) # We will show only the first 5 results\n",
    "\n",
    "    print(Ytr.shape)\n",
    "    return Ytr"
   ]
  },
  {
   "cell_type": "code",
   "execution_count": 7,
   "metadata": {},
   "outputs": [
    {
     "name": "stdout",
     "output_type": "stream",
     "text": [
      "[5 0 4 1 9]\n",
      "(60000,)\n",
      "[[0. 1. 0. 0. 0.]\n",
      " [0. 0. 0. 1. 0.]\n",
      " [0. 0. 0. 0. 0.]\n",
      " [0. 0. 0. 0. 0.]\n",
      " [0. 0. 1. 0. 0.]\n",
      " [1. 0. 0. 0. 0.]\n",
      " [0. 0. 0. 0. 0.]\n",
      " [0. 0. 0. 0. 0.]\n",
      " [0. 0. 0. 0. 0.]\n",
      " [0. 0. 0. 0. 1.]]\n",
      "(10, 60000)\n"
     ]
    }
   ],
   "source": [
    "n_labels = 10 # How many labels we have (10 different numbers)\n",
    "\n",
    "\n",
    "targets = train_labels\n",
    "print(targets[0:5]) # We will show only the first 5 results\n",
    "print(targets.shape)\n",
    "Ytr = HotVector(targets,n_labels)\n"
   ]
  },
  {
   "cell_type": "markdown",
   "metadata": {},
   "source": [
    "### Activation Function - Sigmoid \n",
    "It is really important to apply non-linearity (or else activation function) to the result *Z*, this is happening for several reasons but the important part is what activation function will be used\n",
    "Two classical ones are Sigmoid and ReLU and in this particular example will be used the Sigmoid function\n",
    "\n",
    "$$ a = \\frac{1}{1+\\exp^{-z}}$$\n",
    "<img src = \"img/Sigmoid.png\" style=\"width:350;height:250px;\">\n",
    "\n"
   ]
  },
  {
   "cell_type": "code",
   "execution_count": 8,
   "metadata": {},
   "outputs": [],
   "source": [
    "def sigmoid(z):\n",
    "    s = 1 / (1 + np.exp(-z))\n",
    "    return s"
   ]
  },
  {
   "cell_type": "code",
   "execution_count": 27,
   "metadata": {},
   "outputs": [],
   "source": [
    "def Conv_One_step(ImagePiece,Filter,b):\n",
    "    temp = np.multiply(Filter,ImagePiece) + b\n",
    "    \n",
    "    Res = np.sum(temp)\n",
    "    \n",
    "    return Res"
   ]
  },
  {
   "cell_type": "code",
   "execution_count": 28,
   "metadata": {},
   "outputs": [],
   "source": [
    "def Conv_forward(Image,W,b):\n",
    "\n",
    "    stride = 1\n",
    "    pad = 0\n",
    "\n",
    "    (f,f,n_C_prev,n_C) = W.shape\n",
    "    \n",
    "    (m,nH_prev,nW_prev,n_C_prev) = Image.shape\n",
    "    \n",
    "    \n",
    "    n_H = int( (nH_prev+2*pad-f)/stride + 1)\n",
    "    n_W = int( (nW_prev+2*pad-f)/stride + 1)\n",
    "    \n",
    "    Z = np.zeros((m,n_H,n_W,n_C))\n",
    "    \n",
    "    \n",
    "    for i in range(m):\n",
    "        img1 = Image[i,:,:,:]\n",
    "        for h in range(n_H):\n",
    "            for w in range(n_W):\n",
    "                for c in range(n_C):\n",
    "                    Z[i,h,w,c] = Conv_One_step(img1[h:h+f,w:w+f,:],W[:,:,:,c],b[:,:,:,c])\n",
    "                    \n",
    "    \n",
    "    \n",
    "    \n",
    "        \n",
    "    return Z"
   ]
  },
  {
   "cell_type": "markdown",
   "metadata": {},
   "source": [
    "# BackPropagation\n"
   ]
  },
  {
   "cell_type": "code",
   "execution_count": null,
   "metadata": {},
   "outputs": [],
   "source": []
  }
 ],
 "metadata": {
  "kernelspec": {
   "display_name": "Python 3",
   "language": "python",
   "name": "python3"
  },
  "language_info": {
   "codemirror_mode": {
    "name": "ipython",
    "version": 3
   },
   "file_extension": ".py",
   "mimetype": "text/x-python",
   "name": "python",
   "nbconvert_exporter": "python",
   "pygments_lexer": "ipython3",
   "version": "3.6.6"
  }
 },
 "nbformat": 4,
 "nbformat_minor": 2
}
